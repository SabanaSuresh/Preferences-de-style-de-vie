{
  "cells": [
    {
      "cell_type": "code",
      "execution_count": null,
      "metadata": {
        "id": "SMR7ySkT9nOp"
      },
      "outputs": [],
      "source": [
        "# classe ConsoGES\n",
        "class ConsoGES:\n",
        "    def __init__(self, coutGES, utilite, description):\n",
        "        self.coutGES = coutGES\n",
        "        self.utilite = utilite\n",
        "        self.description = description\n",
        "\n",
        "alimentation = [\n",
        "    ConsoGES(2.2, 5, \"Alimentation très carnée\"),\n",
        "    ConsoGES(1.2, 7, \"Alimentation modérément carnée\"),\n",
        "    ConsoGES(0.9, 6, \"Alimentation végétarienne\"),\n",
        "    ConsoGES(0.4, 4, \"Alimentation végétalienne\")\n",
        "]\n",
        "\n",
        "transport = [\n",
        "    ConsoGES(3, 4, \"Grosse voiture thermique pour 5000km à l'année et par personne\"),\n",
        "    ConsoGES(2.1, 6, \"Petite voiture thermique pour 10000km à l'année et par personne\"),\n",
        "    ConsoGES(1.6, 5, \"Voiture électrique de taille moyenne pour 5000km à l'année et par personne\"),\n",
        "    ConsoGES(0.3, 3, \"Mobilité douce\")\n",
        "]\n",
        "\n",
        "logement = [\n",
        "    ConsoGES(3, 7, \"Maison mal isolée thermiquement, 60m2 par personne\"),\n",
        "    ConsoGES(0.2, 6, \"Appartement très bien isolé thermiquement, 40m2 par personne\")\n",
        "]\n",
        "\n",
        "consommation = [\n",
        "    ConsoGES(2.5, 10, \"Consommation importante de biens et services\"),\n",
        "    ConsoGES(1.3, 6, \"Consommation sobre de biens et services\")\n",
        "]\n",
        "\n"
      ]
    },
    {
      "cell_type": "code",
      "execution_count": null,
      "metadata": {
        "colab": {
          "base_uri": "https://localhost:8080/",
          "height": 334
        },
        "id": "1fgLvJoF1sQA",
        "outputId": "12ca171d-10a7-45b5-e1d9-cf89bd17e2fe"
      },
      "outputs": [
        {
          "name": "stdout",
          "output_type": "stream",
          "text": [
            "Collecting mip\n",
            "  Downloading mip-1.15.0-py3-none-any.whl (15.3 MB)\n",
            "\u001b[2K     \u001b[90m━━━━━━━━━━━━━━━━━━━━━━━━━━━━━━━━━━━━━━━━\u001b[0m \u001b[32m15.3/15.3 MB\u001b[0m \u001b[31m27.9 MB/s\u001b[0m eta \u001b[36m0:00:00\u001b[0m\n",
            "\u001b[?25hCollecting cffi==1.15.* (from mip)\n",
            "  Downloading cffi-1.15.1-cp310-cp310-manylinux_2_17_x86_64.manylinux2014_x86_64.whl (441 kB)\n",
            "\u001b[2K     \u001b[90m━━━━━━━━━━━━━━━━━━━━━━━━━━━━━━━━━━━━━━━━\u001b[0m \u001b[32m441.8/441.8 kB\u001b[0m \u001b[31m9.2 MB/s\u001b[0m eta \u001b[36m0:00:00\u001b[0m\n",
            "\u001b[?25hRequirement already satisfied: pycparser in /usr/local/lib/python3.10/dist-packages (from cffi==1.15.*->mip) (2.22)\n",
            "Installing collected packages: cffi, mip\n",
            "  Attempting uninstall: cffi\n",
            "    Found existing installation: cffi 1.16.0\n",
            "    Uninstalling cffi-1.16.0:\n",
            "      Successfully uninstalled cffi-1.16.0\n",
            "Successfully installed cffi-1.15.1 mip-1.15.0\n"
          ]
        },
        {
          "data": {
            "application/vnd.colab-display-data+json": {
              "id": "66af75d6a0b449cd9f3cc6f0ecbe7ae9",
              "pip_warning": {
                "packages": [
                  "cffi"
                ]
              }
            }
          },
          "metadata": {},
          "output_type": "display_data"
        }
      ],
      "source": [
        "#Pour importer les fonctions du package mip faut exécuter cette cellule et ensuite recharger le notebook\n",
        "!pip install mip"
      ]
    },
    {
      "cell_type": "code",
      "execution_count": null,
      "metadata": {
        "colab": {
          "base_uri": "https://localhost:8080/"
        },
        "id": "4HDORHlZrjwt",
        "outputId": "44552eb8-457f-4b81-da63-fbad90884e47"
      },
      "outputs": [
        {
          "name": "stdout",
          "output_type": "stream",
          "text": [
            "Found existing installation: mip 1.15.0\n",
            "Uninstalling mip-1.15.0:\n",
            "  Would remove:\n",
            "    /usr/local/lib/python3.10/dist-packages/mip-1.15.0.dist-info/*\n",
            "    /usr/local/lib/python3.10/dist-packages/mip/*\n",
            "Proceed (Y/n)? Y\n",
            "  Successfully uninstalled mip-1.15.0\n"
          ]
        }
      ],
      "source": [
        "#Si jamais le notebook indique qu'il ya 2 versions differentes du mip qui sont installés faire exécuter cette cellule et ensuite ré-installer le package mip\n",
        "pip uninstall mip\n",
        "pip install --upgrade cffi"
      ]
    },
    {
      "cell_type": "code",
      "execution_count": null,
      "metadata": {
        "id": "mJVfPlTgEpQI"
      },
      "outputs": [],
      "source": [
        "import matplotlib.pyplot as plt\n",
        "import numpy as np\n",
        "from mip import Model, xsum, maximize, BINARY"
      ]
    },
    {
      "cell_type": "code",
      "execution_count": null,
      "metadata": {
        "id": "0l8wFT0791--"
      },
      "outputs": [],
      "source": [
        "#classe SacADosGES et ses méthodes\n",
        "class SacADosGES:\n",
        "      def __init__(self, consommation, alimentation, transport,logement):\n",
        "        self.consommation = consommation\n",
        "        self.alimentation = alimentation\n",
        "        self.transport = transport\n",
        "        self.logement=logement\n",
        "\n",
        "      def getCoutGES(self):\n",
        "        cout=0\n",
        "        cout+= self.alimentation.coutGES\n",
        "        cout+=self.transport.coutGES\n",
        "        cout+= self.logement.coutGES\n",
        "        cout+= self.consommation.coutGES\n",
        "        return cout\n",
        "\n",
        "      def getUtilite(self):\n",
        "        utilite=0\n",
        "        utilite+= self.alimentation.utilite\n",
        "        utilite+= self.transport.utilite\n",
        "        utilite+= self.logement.utilite\n",
        "        utilite+= self.consommation.utilite\n",
        "        return utilite\n",
        "\n",
        "\n",
        "\n",
        "      def estValide(self,B):\n",
        "        if self.getCoutGES()>B:\n",
        "          #Si jamais le coût du sac dépasse la borne B\n",
        "          return False\n",
        "        else:\n",
        "          return True\n",
        "\n",
        "\n",
        "#Fonction pour tester l'égalité entre 2 sacs qui serait utile dans la suite du projet\n",
        "      def __eq__(self, other):\n",
        "        if isinstance(other, SacADosGES):\n",
        "            return (self.consommation == other.consommation and\n",
        "                    self.alimentation == other.alimentation and\n",
        "                    self.transport == other.transport and\n",
        "                    self.logement == other.logement)\n",
        "\n",
        "\n"
      ]
    },
    {
      "cell_type": "code",
      "execution_count": null,
      "metadata": {
        "colab": {
          "base_uri": "https://localhost:8080/"
        },
        "id": "LjIX-52I_bqK",
        "outputId": "7dcf712d-e00c-4e6e-dd9b-9560395bdcc0"
      },
      "outputs": [
        {
          "name": "stdout",
          "output_type": "stream",
          "text": [
            "[<__main__.SacADosGES object at 0x795a8c0a3f70>, <__main__.SacADosGES object at 0x795a8c0a2da0>, <__main__.SacADosGES object at 0x795a8c0a2ce0>, <__main__.SacADosGES object at 0x795a8c0a3670>, <__main__.SacADosGES object at 0x795a8c0a3640>, <__main__.SacADosGES object at 0x795a8c0a31f0>, <__main__.SacADosGES object at 0x795a8c0a2e90>, <__main__.SacADosGES object at 0x795a8c0a2f20>, <__main__.SacADosGES object at 0x795a8c0a3eb0>, <__main__.SacADosGES object at 0x795a8c0a2bc0>, <__main__.SacADosGES object at 0x795a8c0a2a10>, <__main__.SacADosGES object at 0x795a8c0fa140>, <__main__.SacADosGES object at 0x795a8c0fa080>, <__main__.SacADosGES object at 0x795a8c0f9fc0>, <__main__.SacADosGES object at 0x795a8c0fa020>, <__main__.SacADosGES object at 0x795a8c0f9f00>, <__main__.SacADosGES object at 0x795a8c0f9f60>, <__main__.SacADosGES object at 0x795a8c0f9ea0>, <__main__.SacADosGES object at 0x795a8c0f9de0>, <__main__.SacADosGES object at 0x795a8c0f8bb0>, <__main__.SacADosGES object at 0x795a8c0f8c10>, <__main__.SacADosGES object at 0x795a8c0f91e0>, <__main__.SacADosGES object at 0x795a8c0f9180>, <__main__.SacADosGES object at 0x795a8c0fa260>, <__main__.SacADosGES object at 0x795a8c0fa320>, <__main__.SacADosGES object at 0x795a8c0f8940>, <__main__.SacADosGES object at 0x795a8c0f89a0>, <__main__.SacADosGES object at 0x795a8c0f8a00>, <__main__.SacADosGES object at 0x795a8c0f8a60>, <__main__.SacADosGES object at 0x795a8c0f8ac0>, <__main__.SacADosGES object at 0x795a8c0f8b20>, <__main__.SacADosGES object at 0x795a8c0f8b80>, <__main__.SacADosGES object at 0x795a8c0f9300>, <__main__.SacADosGES object at 0x795a8c0f92a0>, <__main__.SacADosGES object at 0x795a8c0f9390>, <__main__.SacADosGES object at 0x795a8c0f93f0>, <__main__.SacADosGES object at 0x795a8c0f9450>, <__main__.SacADosGES object at 0x795a8c0f94b0>, <__main__.SacADosGES object at 0x795a8c0f9510>, <__main__.SacADosGES object at 0x795a8c0f9570>, <__main__.SacADosGES object at 0x795a8c0f95d0>, <__main__.SacADosGES object at 0x795a8c0f9630>, <__main__.SacADosGES object at 0x795a8c0f9690>, <__main__.SacADosGES object at 0x795a8c0f96f0>, <__main__.SacADosGES object at 0x795a8c0f9750>, <__main__.SacADosGES object at 0x795a8c0f97b0>, <__main__.SacADosGES object at 0x795a8c0f9810>, <__main__.SacADosGES object at 0x795a8c0f9c60>, <__main__.SacADosGES object at 0x795a8c0f9cc0>, <__main__.SacADosGES object at 0x795a8c0f9d20>, <__main__.SacADosGES object at 0x795a8c0fb160>, <__main__.SacADosGES object at 0x795a8c0fb100>, <__main__.SacADosGES object at 0x795a8c0fb0a0>, <__main__.SacADosGES object at 0x795a8c0fb040>, <__main__.SacADosGES object at 0x795a8c0fafe0>, <__main__.SacADosGES object at 0x795a8c0faf80>, <__main__.SacADosGES object at 0x795a8c0faf20>, <__main__.SacADosGES object at 0x795a8c0faec0>, <__main__.SacADosGES object at 0x795a8c0fae60>, <__main__.SacADosGES object at 0x795a8c0fae00>, <__main__.SacADosGES object at 0x795a8c0fada0>, <__main__.SacADosGES object at 0x795a8c0fad40>, <__main__.SacADosGES object at 0x795a8c0face0>, <__main__.SacADosGES object at 0x795a8c0fac80>]\n"
          ]
        }
      ],
      "source": [
        "def getSacsADos(consommation, alimentation, transport, logement):\n",
        "        sacs = []\n",
        "        #Parcourir tout les éléments de toutes les listes pour obtenir toutes les combinaisons possibles de sacs\n",
        "        for cons in consommation:\n",
        "            for ali in alimentation:\n",
        "                for tra in transport:\n",
        "                    for log in logement:\n",
        "                        sac = SacADosGES(cons, ali, tra, log)\n",
        "                        sacs.append(sac)\n",
        "        return sacs\n",
        "\n",
        "def filtre(L,B):\n",
        "        sacs1=[]\n",
        "        for sac in L:\n",
        "          if sac.estValide(B):\n",
        "            sacs1.append(sac)\n",
        "        return sacs1\n",
        "\n",
        " #Tester la fonction\n",
        "A_getSacsADos=getSacsADos(consommation, alimentation, transport, logement)\n",
        "#print(A_getSacsADos)"
      ]
    },
    {
      "cell_type": "code",
      "execution_count": null,
      "metadata": {
        "id": "RzWgkul2_f3n"
      },
      "outputs": [],
      "source": [
        "#Classe SystemeRelationnel\n",
        "class SystemeRelationnel:\n",
        "   def __init__(self,A,R):\n",
        "    self.A=A\n",
        "    self.R=R\n",
        "\n",
        "\n",
        "#Les prochaines fonctions ont pour but de tester toutes les propriétés classiques des systèmes \n",
        "   def reflexive(self):\n",
        "        for a in self.A:\n",
        "            if (not((a,a) in self.R)):\n",
        "              #Si jamais on trouve un élément a tq non(a R a) donc la relation pas refléxive\n",
        "                return False\n",
        "        return True\n",
        "\n",
        "   def irreflexive(self):\n",
        "        for a in self.A:\n",
        "            if ((a,a) in self.R):\n",
        "            #Si jamais on trouve un élément a tq (a R a) donc la relation pas irrefléxive\n",
        "                return False\n",
        "        return True\n",
        "\n",
        "   def symetrie(self):\n",
        "    for (a,b) in self.R:\n",
        "      if (not((b,a) in self.R)):\n",
        "        #Si jamais on trouve un couple (a,b) tq (a R b) mais non(b R a) donc la relation pas symétrique\n",
        "        return False\n",
        "    return True\n",
        "\n",
        "   def asymetrie(self):\n",
        "    for (a,b) in self.R:\n",
        "      if ((b,a) in self.R):\n",
        "        #Si jamais on trouve un couple (a,b) tq (a R b) et (b R a) donc la relation pas asymétrique\n",
        "        return False\n",
        "    return True\n",
        "\n",
        "   def transitivite(self):\n",
        "    for a in self.A:\n",
        "      for b in self.A:\n",
        "        for c in self.A:\n",
        "            if ((a,b) in self.R and (b,c) in self.R):\n",
        "              #Si jamais on trouve deux couples (a,b) et (b,c) tq (a R b) et (b R c) mais non(a R c) donc la relation pas transitive\n",
        "              if (not((a,c) in self.R)):\n",
        "                return False\n",
        "      return True\n",
        "\n",
        "   def neg_transitivite(self):\n",
        "        for a in self.A:\n",
        "            for b in self.A:\n",
        "                for c in self.A:\n",
        "                    if (not((a, b) in self.R or (b, c) in self.R)):\n",
        "                       #Si jamais on trouve deux couples (a,b) et (b,c) tq non(a R b) et non(b R c) mais (a R c) donc la relation pas negativement transitive\n",
        "                       #Remarque d'après les lois de Morgan: non((a R b) ou (b R c)) <=> (non(a R b ) et non(b R c))\n",
        "                        if ((a,c) in self.R):\n",
        "                            return False\n",
        "        return True\n",
        "\n",
        "   def totale(self):\n",
        "    for a in self.A:\n",
        "      for b in self.A:\n",
        "        if not(a.__eq__(b)):\n",
        "            if (not ((a,b) in self.R or (b,a) not in self.R)):\n",
        "              #Si jamais on trouve deux éléments a et b tq non(a R b) et non(b R a) donc la relation pas totale\n",
        "              #Remarque d'après les lois de Morgan: non((a R b) ou (b R a)) <=> non(a R b) et non(b R a)\n",
        "                return False\n",
        "      return True\n",
        "\n",
        "#Pour la negative transitivité nous avons remarqué que lorsqu'on la teste sur LexU et LexC, elle prend enormèment de temps donc on a recodé cette fonction pour rendre son excécution plus simple et courte\n",
        "   def LU(self,a,b):\n",
        "    return ((a.getUtilite()>b.getUtilite())  or ((a.getUtilite()==b.getUtilite() and a.getCoutGES()<b.getCoutGES())))\n",
        "\n",
        "   def LC(self,a,b):\n",
        "    return ((a.getCoutGES()<b.getCoutGES())  or ((a.getUtilite()>b.getUtilite() and a.getCoutGES()==b.getCoutGES())))\n",
        "\n",
        "\n",
        "   def neg_transitivite_LU(self):\n",
        "        for a in self.A:\n",
        "            for b in self.A:\n",
        "                for c in self.A:\n",
        "                    if (not(self.LU(a, b)) and not(self.LU(b, c))):\n",
        "                      #Même principe que la fonction neg_transitivite() mais en utilisant la fonction LU() pour vérifier si (a R b)\n",
        "                        if self.LU(a, c):\n",
        "                            return False\n",
        "        return True\n",
        "\n",
        "   def neg_transitivite_LC(self):\n",
        "        for a in self.A:\n",
        "            for b in self.A:\n",
        "                for c in self.A:\n",
        "                    if (not(self.LC(a, b)) and not(self.LC(b, c))):\n",
        "                       #Même principe que la fonction neg_transitivite() mais en utilisant la fonction LC() pour vérifier si (a R b)\n",
        "                        if self.LC(a, c):\n",
        "                            return False\n",
        "        return True\n",
        "\n",
        "#Pareto dominance\n",
        "   def getSR_PD(self):\n",
        "    R1=[]\n",
        "    for a in self.A:\n",
        "      for b in self.A:\n",
        "          if ((a.getUtilite()>=b.getUtilite() and a.getCoutGES()<b.getCoutGES()) or (a.getUtilite()>b.getUtilite() and a.getCoutGES()<=b.getCoutGES())):\n",
        "            #D'après la définition de la relation\n",
        "            R1.append((a,b))\n",
        "\n",
        "    return SystemeRelationnel(self.A, R1)\n",
        "\n",
        "   def afficher_front_pareto(self):\n",
        "    PD = self.getSR_PD()\n",
        "    dom = []\n",
        "    for (a, b) in PD.R:\n",
        "        dom.append(b)\n",
        "    non_dom = [sac for sac in PD.A if sac not in dom]\n",
        "    x = [sac.getCoutGES() for sac in non_dom]\n",
        "    y = [sac.getUtilite() for sac in non_dom]\n",
        "    plt.scatter(x, y)\n",
        "    plt.xlabel('Coût GES')\n",
        "    plt.ylabel('Utilité')\n",
        "    plt.title('Front de Pareto')\n",
        "    plt.show()\n",
        "\n",
        "#relations lexicographiques\n",
        "   def getSR_LexU(self):\n",
        "      R1=[]\n",
        "      for a in self.A:\n",
        "        for b in self.A:\n",
        "            if ((a.getUtilite()>b.getUtilite())  or ((a.getUtilite()==b.getUtilite() and a.getCoutGES()<b.getCoutGES()))):\n",
        "              #D'après la définition de la relation\n",
        "              R1.append((a,b))\n",
        "\n",
        "      return SystemeRelationnel(self.A, R1)\n",
        "\n",
        "   def getSR_LexC(self):\n",
        "      R1=[]\n",
        "      for a in self.A:\n",
        "        for b in self.A:\n",
        "            if ((a.getCoutGES()<b.getCoutGES())  or ((a.getUtilite()>b.getUtilite() and a.getCoutGES()==b.getCoutGES()))):\n",
        "              #D'après la définition de la relation\n",
        "              R1.append((a,b))\n",
        "\n",
        "      return SystemeRelationnel(self.A, R1)\n",
        "\n",
        "#relation bornée\n",
        "   def getSR_Borne(self,B):\n",
        "      R1=[]\n",
        "      for a in self.A:\n",
        "        for b in self.A:\n",
        "            if ((a.getCoutGES()<=B and b.getCoutGES()>B)  or (a.getUtilite()>b.getUtilite() and a.getCoutGES()<=B and b.getCoutGES()<=B)):\n",
        "              #D'après la définition de la relation\n",
        "              R1.append((a,b))\n",
        "\n",
        "      return SystemeRelationnel(self.A, R1)\n",
        "\n",
        "#kendal-tau distance\n",
        "   def distance(self, SR2):\n",
        "      d=0\n",
        "      for a in self.A:\n",
        "        for b in self.A:\n",
        "          #paire (a,b) lorsque a!=b\n",
        "          if not(a.__eq__(b)):\n",
        "            if (((a,b) in self.R and not((a,b) in SR2.R)) or ((a,b) in SR2.R and not((a,b) in self.R))):\n",
        "              d+=0.5\n",
        "      for a in self.A:\n",
        "         if (((a,a) in self.R and (a,a) not in SR2.R) or ((a,a) in SR2.R and (a,a) not in self.R)):\n",
        "              d+=0.5\n",
        "      #D'après la définition de la distance\n",
        "\n",
        "      return d\n",
        "\n",
        "   def utiliteMax1(self, B):\n",
        "        utilite_max = 0\n",
        "        sac_max= None\n",
        "        for sac in self.A:\n",
        "            if (sac.estValide(B)):\n",
        "              if (sac.getUtilite()>utilite_max):\n",
        "                #Si jamais on trouve un sac avec meilleure utilité on le retient\n",
        "                utilite_max=sac.getUtilite()\n",
        "                sac_max=sac\n",
        "        return utilite_max, sac_max\n",
        "\n"
      ]
    },
    {
      "cell_type": "code",
      "execution_count": null,
      "metadata": {
        "colab": {
          "base_uri": "https://localhost:8080/",
          "height": 982
        },
        "id": "tJsRLW4fAnuc",
        "outputId": "f4c38ff5-4fb5-42b0-b18b-6a42b903b183"
      },
      "outputs": [
        {
          "data": {
            "image/png": "[encoded data removed]",
            "text/plain": [
              "<Figure size 640x480 with 1 Axes>"
            ]
          },
          "metadata": {},
          "output_type": "display_data"
        },
        {
          "name": "stdout",
          "output_type": "stream",
          "text": [
            "Les propriétés de la relation de Pareto dominance:\n",
            "irreflexivite: True\n",
            "reflexivite: False\n",
            "asymetrie: True\n",
            "symetrie: False\n",
            "totale: False\n",
            "transitive: True\n",
            "negativement transitive: False\n",
            "\n",
            "\n",
            "Les propriétés de la relation lexicographiqueC:\n",
            "irreflexivite: True\n",
            "reflexivite: False\n",
            "asymetrie: True\n",
            "symetrie: False\n",
            "totale: False\n",
            "transitive: True\n",
            "negativement transitive: True\n",
            "\n",
            "\n",
            "Les propriétés de la relation lexicographiqueU:\n",
            "irreflexivite: True\n",
            "reflexivite: False\n",
            "asymetrie: True\n",
            "symetrie: False\n",
            "totale: False\n",
            "transitive: True\n",
            "negativement transitive: True\n",
            "\n",
            "\n"
          ]
        }
      ],
      "source": [
        "L=getSacsADos(consommation, alimentation, transport, logement)\n",
        "SR1=SystemeRelationnel(L,[])\n",
        "SR1.afficher_front_pareto()\n",
        "SR1_PD=SR1.getSR_PD()\n",
        "SR1_LexU=SR1.getSR_LexU()\n",
        "SR1_LexC=SR1.getSR_LexC()\n",
        "SR1_borne1=SR1.getSR_Borne(5)\n",
        "print(\"Les propriétés de la relation de Pareto dominance:\")\n",
        "print(\"irreflexivite:\",SR1_PD.irreflexive())\n",
        "print(\"reflexivite:\",SR1_PD.reflexive())\n",
        "print(\"asymetrie:\",SR1_PD.asymetrie())\n",
        "print(\"symetrie:\",SR1_PD.symetrie())\n",
        "print(\"totale:\",SR1_PD.totale())\n",
        "print(\"transitive:\",SR1_PD.transitivite())\n",
        "print(\"negativement transitive:\",SR1_PD.neg_transitivite())\n",
        "print(\"\\n\")\n",
        "\n",
        "print(\"Les propriétés de la relation lexicographiqueC:\")\n",
        "print(\"irreflexivite:\",SR1_LexC.irreflexive())\n",
        "print(\"reflexivite:\",SR1_LexC.reflexive())\n",
        "print(\"asymetrie:\",SR1_LexC.asymetrie())\n",
        "print(\"symetrie:\",SR1_LexC.symetrie())\n",
        "print(\"totale:\",SR1_LexC.totale())\n",
        "print(\"transitive:\",SR1_LexC.transitivite())\n",
        "print(\"negativement transitive:\",SR1_LexC.neg_transitivite_LC())\n",
        "print(\"\\n\")\n",
        "\n",
        "print(\"Les propriétés de la relation lexicographiqueU:\")\n",
        "print(\"irreflexivite:\",SR1_LexU.irreflexive())\n",
        "print(\"reflexivite:\",SR1_LexU.reflexive())\n",
        "print(\"asymetrie:\",SR1_LexU.asymetrie())\n",
        "print(\"symetrie:\",SR1_LexU.symetrie())\n",
        "print(\"totale:\",SR1_LexU.totale())\n",
        "print(\"transitive:\",SR1_LexU.transitivite())\n",
        "print(\"negativement transitive:\",SR1_LexU.neg_transitivite_LU())\n",
        "print(\"\\n\")\n",
        "\n",
        "\n"
      ]
    },
    {
      "cell_type": "code",
      "execution_count": null,
      "metadata": {
        "colab": {
          "base_uri": "https://localhost:8080/"
        },
        "id": "7wnoY81QRDbU",
        "outputId": "d7a6f1fb-2b37-4ff0-b8ea-8d5d46ade51b"
      },
      "outputs": [
        {
          "name": "stdout",
          "output_type": "stream",
          "text": [
            "Distance entre le SR vide et le SR de la pareto dominance est 381.5\n",
            "Distance entre SR de la relation lexicographiqueC et le SR de la pareto dominance est 626.5\n",
            "Distance entre SR de la relation lexicographiqueU et le SR de la pareto dominance est 626.5\n",
            "Distance entre SR de la relation lexicographiqueU et le SR de la relation lexicographiqueC est 1253.0\n",
            "Distance entre SR de la pareto dominance et le SR borné pour b= 5 est: 580.5\n",
            "Distance entre SR de la relation lexicographiqueU et le SR borné pour b= 5 est: 1140.0\n",
            "Distance entre SR de la relation lexicographiqueC et le SR borné pour b= 5 est: 636.0\n",
            "Distance entre SR de la pareto dominance et le SR borné pour b= 7 est: 658.0\n",
            "Distance entre SR de la relation lexicographiqueU et le SR borné pour b= 7 est: 835.5\n",
            "Distance entre SR de la relation lexicographiqueC et le SR borné pour b= 7 est: 622.5\n",
            "Distance entre SR de la pareto dominance et le SR borné pour b= 10 est: 713.0\n",
            "Distance entre SR de la relation lexicographiqueU et le SR borné pour b= 10 est: 126.5\n",
            "Distance entre SR de la relation lexicographiqueC et le SR borné pour b= 10 est: 1299.5\n",
            "Distance entre SR de la pareto dominance et le SR borné pour b= 12 est: 716.5\n",
            "Distance entre SR de la relation lexicographiqueU et le SR borné pour b= 12 est: 90.0\n",
            "Distance entre SR de la relation lexicographiqueC et le SR borné pour b= 12 est: 1343.0\n"
          ]
        }
      ],
      "source": [
        "#Calcul des distances entre les différents sytèmes (commentaires dans le rapport)\n",
        "B=[5, 7, 10, 12]\n",
        "print(\"Distance entre le SR vide et le SR de la pareto dominance est\", SR1.distance(SR1_PD))\n",
        "print(\"Distance entre SR de la relation lexicographiqueC et le SR de la pareto dominance est\", SR1_LexC.distance(SR1_PD))\n",
        "print(\"Distance entre SR de la relation lexicographiqueU et le SR de la pareto dominance est\", SR1_LexU.distance(SR1_PD))\n",
        "print(\"Distance entre SR de la relation lexicographiqueU et le SR de la relation lexicographiqueC est\", SR1_LexC.distance(SR1_LexU))\n",
        "for b in B:\n",
        "  SR1_borne=SR1.getSR_Borne(b)\n",
        "  print(\"Distance entre SR de la pareto dominance et le SR borné pour b=\",b,\"est:\",SR1_PD.distance(SR1_borne))\n",
        "  print(\"Distance entre SR de la relation lexicographiqueU et le SR borné pour b=\",b,\"est:\",SR1_LexU.distance(SR1_borne))\n",
        "  print(\"Distance entre SR de la relation lexicographiqueC et le SR borné pour b=\",b,\"est:\", SR1_LexC.distance(SR1_borne))\n",
        "\n",
        "\n"
      ]
    },
    {
      "cell_type": "code",
      "execution_count": null,
      "metadata": {
        "colab": {
          "base_uri": "https://localhost:8080/",
          "height": 472
        },
        "id": "KzTgiwf77LwL",
        "outputId": "5a748b80-2413-4ce0-e7a0-16d773408922"
      },
      "outputs": [
        {
          "data": {
            "image/png": "[encoded data removed]",
            "text/plain": [
              "<Figure size 640x480 with 1 Axes>"
            ]
          },
          "metadata": {},
          "output_type": "display_data"
        }
      ],
      "source": [
        "#Reprèsentons les diffèrentes distances pour différentes valeures de B sur un graphique\n",
        "B1=[1,2,3,4,5,6,7,8,9,10,11,12,13,14]\n",
        "D_PD=[]\n",
        "D_U=[]\n",
        "D_C=[]\n",
        "for b in B1:\n",
        "  SR1_borne=SR1.getSR_Borne(b)\n",
        "  D_PD.append( SR1_PD.distance(SR1_borne))\n",
        "  D_U.append(SR1_LexU.distance(SR1_borne))\n",
        "  D_C.append(SR1_LexC.distance(SR1_borne))\n",
        "\n",
        "plt.plot(B1, D_PD, label='Distance entre SR1_PD et SR_B', color='blue',marker='o')\n",
        "plt.plot(B1, D_U, label='Distance entre SR1_LexU et SR_B', color='green',marker='o')\n",
        "plt.plot(B1, D_C, label='Distance entre SR1_LexC et SR_B', color='red', marker='o')\n",
        "\n",
        "plt.xlabel('Valeures de B')\n",
        "plt.ylabel('Distances')\n",
        "plt.title('Distances entre des les relations et la relation bornée de borne B')\n",
        "plt.xticks(B1)\n",
        "plt.grid(True)\n",
        "plt.legend()\n",
        "plt.show()"
      ]
    },
    {
      "cell_type": "code",
      "execution_count": null,
      "metadata": {
        "colab": {
          "base_uri": "https://localhost:8080/",
          "height": 472
        },
        "id": "NPefZ0iT5GO1",
        "outputId": "bfae8917-5239-4e47-9b9d-92a66518b7ae"
      },
      "outputs": [
        {
          "data": {
            "image/png": "[encoded data removed]",
            "text/plain": [
              "<Figure size 640x480 with 1 Axes>"
            ]
          },
          "metadata": {},
          "output_type": "display_data"
        }
      ],
      "source": [
        "#Niveau d’utilité optimal en fonction de la borne B (commentaires dans le rapport) \n",
        "utilites_max = [SR1.utiliteMax1(B)[0] for B in B1]\n",
        "plt.plot(B1, utilites_max, marker='o')\n",
        "plt.xlabel('Borne B (Coût GES maximum)')\n",
        "plt.ylabel('Utilité maximale')\n",
        "plt.title('Niveau d\\'utilité maximale en fonction de la borne B')\n",
        "plt.grid(True)\n",
        "plt.show()"
      ]
    },
    {
      "cell_type": "code",
      "execution_count": null,
      "metadata": {
        "id": "Mz94Hl1Q1EEN"
      },
      "outputs": [],
      "source": [
        "#Liste avec tout les éléments de ConsoGES qui va servir pour résoudre le PL\n",
        "C=[]\n",
        "C.extend(consommation)\n",
        "C.extend(alimentation)\n",
        "C.extend(transport)\n",
        "C.extend(logement)"
      ]
    },
    {
      "cell_type": "code",
      "execution_count": null,
      "metadata": {
        "id": "vA1DX7AF0cOi"
      },
      "outputs": [],
      "source": [
        "#Fonction auxiliaire qui nous permettra d'obtenir l'utilité de chaque sac selon sa composition et une liste u\n",
        "def Utilite_sac(k, C, u):\n",
        "        utilite = 0\n",
        "        utilite += u[C.index(k.alimentation)]\n",
        "        utilite += u[C.index(k.transport)]\n",
        "        utilite += u[C.index(k.logement)]\n",
        "        utilite += u[C.index(k.consommation)]\n",
        "        return utilite\n",
        "#Résolution du PL pour trouver si k1 domine k2 ordinalement ou pas\n",
        "def estOrdDomine(P, k1, k2, C):\n",
        "    model = Model()\n",
        "\n",
        "    # Variables du PL\n",
        "    u = [model.add_var(var_type=\"C\",lb=0, ub=1) for i in C]\n",
        "\n",
        "    # Contraintes :\n",
        "    for (k11, k22) in P:\n",
        "        model += (Utilite_sac(k11, C, u) >= Utilite_sac(k22, C, u) +(10)**-10)\n",
        "\n",
        "    # Maximiser la différence entre les utilités attribuées à k1 et k2\n",
        "    model.objective =maximize(Utilite_sac(k2, C, u) - Utilite_sac(k1, C, u))\n",
        "    model.optimize()\n",
        "    #On a écrit dans un fichier pour garder trace de la valeures des utilités\n",
        "    with open(\"valeures.txt\", \"w\") as f:\n",
        "        f.write(f\"fonction objective: {model.objective_value}\\n\")\n",
        "        f.write(\"variables:\\n\")\n",
        "        for var in u:\n",
        "            f.write(f\"{var.name}: {var.x}\\n\")\n",
        "    # Vérifier si k1 domine ordinairement k2\n",
        "\n",
        "    if (model.objective_value<0):\n",
        "      return True\n",
        "    else:\n",
        "      return False\n",
        "\n",
        "\n",
        "# essais pour vérifier que la fonction marche bien\n",
        "'''\n",
        "sac1 = SacADosGES(consommation[1],alimentation[0], transport[1], logement[0])\n",
        "sac2 = SacADosGES(consommation[0],alimentation[0], transport[1], logement[0])\n",
        "sac3 = SacADosGES( consommation[0],alimentation[1], transport[1], logement[0])\n",
        "sac4 = SacADosGES(consommation[0],alimentation[1], transport[1], logement[0])\n",
        "\n",
        "preferences = SR1_PD.R[:2]\n",
        "preferences1=[(sac1,sac3)]\n",
        "\n",
        "dominance = estOrdDomine(preferences1, sac3, sac1, C)\n",
        "print(dominance)\n",
        "if (dominance):\n",
        "  print(\"k1 domine ordinalement k2\")\n",
        "else:\n",
        "  print(\"k1 ne domine pas ordinalement k2\")\n",
        "'''\n",
        "def nonOrdDomines(SR, P, B):\n",
        "        non_domines = []\n",
        "        for sac in SR.A:\n",
        "            if sac.getCoutGES()<= B:\n",
        "              non_ord = True\n",
        "              for sac1 in SR.A:\n",
        "                    if (sac1.getCoutGES() <= B):\n",
        "                        if (estOrdDomine(P, sac1, sac,C)):\n",
        "                          #Si jamais sac1 domine sac donc sac n'est plus ordinalement dominé\n",
        "                          non_ord=False\n",
        "                          break\n",
        "              if (non_ord):\n",
        "                 non_domines.append(sac)\n",
        "        return non_domines\n",
        "\n"
      ]
    },
    {
      "cell_type": "code",
      "execution_count": null,
      "metadata": {
        "id": "S4D66VkzcMoL"
      },
      "outputs": [],
      "source": [
        "#Une liste de préférence selon le coût GES: on préfére les consommation qui ont un plus petit coût GES\n",
        "preferences_prix=[]\n",
        "for sac in SR1.A:\n",
        "  for sac1 in SR1.A:\n",
        "    if not(sac.__eq__(sac1)):\n",
        "      if (sac.getCoutGES()>sac1.getCoutGES()):\n",
        "        preferences_prix.append((sac1,sac))\n",
        "      elif(sac1.getCoutGES()>sac.getCoutGES()):\n",
        "        preferences_prix.append((sac,sac1))"
      ]
    },
    {
      "cell_type": "code",
      "execution_count": null,
      "metadata": {
        "colab": {
          "base_uri": "https://localhost:8080/"
        },
        "id": "nVXQnLjlXfCy",
        "outputId": "af9a986b-ed07-472a-cce6-a59ef749b75f"
      },
      "outputs": [
        {
          "name": "stdout",
          "output_type": "stream",
          "text": [
            "Résultats pour B= 2\n",
            "Préférences générées par la Pareto Dominance: Taille de R:  10  taille de l'output: 0\n",
            "Préférences générées par la Pareto Dominance: Taille de R:  70  taille de l'output: 0\n",
            "Préférences générées par la Pareto Dominance: Taille de R:  200  taille de l'output: 0\n",
            "Préférences générées par la Pareto Dominance: Taille de R:  763  taille de l'output: 0\n",
            "Préférences de prix: B vaut, 2 Taille de R 500  taille de l'output: 0\n",
            "Résultats pour B= 3\n",
            "Préférences générées par la Pareto Dominance: Taille de R:  10  taille de l'output: 3\n",
            "Préférences générées par la Pareto Dominance: Taille de R:  70  taille de l'output: 3\n",
            "Préférences générées par la Pareto Dominance: Taille de R:  200  taille de l'output: 3\n",
            "Préférences générées par la Pareto Dominance: Taille de R:  763  taille de l'output: 3\n",
            "Préférences de prix: B vaut, 3 Taille de R 500  taille de l'output: 1\n",
            "Résultats pour B= 4\n",
            "Préférences générées par la Pareto Dominance: Taille de R:  10  taille de l'output: 9\n",
            "Préférences générées par la Pareto Dominance: Taille de R:  70  taille de l'output: 6\n",
            "Préférences générées par la Pareto Dominance: Taille de R:  200  taille de l'output: 5\n",
            "Préférences générées par la Pareto Dominance: Taille de R:  763  taille de l'output: 5\n",
            "Préférences de prix: B vaut, 4 Taille de R 500  taille de l'output: 1\n",
            "Résultats pour B= 5\n",
            "Préférences générées par la Pareto Dominance: Taille de R:  10  taille de l'output: 14\n",
            "Préférences générées par la Pareto Dominance: Taille de R:  70  taille de l'output: 8\n",
            "Préférences générées par la Pareto Dominance: Taille de R:  200  taille de l'output: 6\n",
            "Préférences générées par la Pareto Dominance: Taille de R:  763  taille de l'output: 6\n",
            "Préférences de prix: B vaut, 5 Taille de R 500  taille de l'output: 1\n",
            "Résultats pour B= 6\n",
            "Préférences générées par la Pareto Dominance: Taille de R:  10  taille de l'output: 22\n",
            "Préférences générées par la Pareto Dominance: Taille de R:  70  taille de l'output: 14\n",
            "Préférences générées par la Pareto Dominance: Taille de R:  200  taille de l'output: 9\n",
            "Préférences générées par la Pareto Dominance: Taille de R:  763  taille de l'output: 9\n",
            "Préférences de prix: B vaut, 6 Taille de R 500  taille de l'output: 1\n",
            "Résultats pour B= 7\n",
            "Préférences générées par la Pareto Dominance: Taille de R:  10  taille de l'output: 23\n",
            "Préférences générées par la Pareto Dominance: Taille de R:  70  taille de l'output: 15\n",
            "Préférences générées par la Pareto Dominance: Taille de R:  200  taille de l'output: 9\n",
            "Préférences générées par la Pareto Dominance: Taille de R:  763  taille de l'output: 9\n",
            "Préférences de prix: B vaut, 7 Taille de R 500  taille de l'output: 1\n",
            "Résultats pour B= 8\n",
            "Préférences générées par la Pareto Dominance: Taille de R:  10  taille de l'output: 25\n",
            "Préférences générées par la Pareto Dominance: Taille de R:  70  taille de l'output: 16\n",
            "Préférences générées par la Pareto Dominance: Taille de R:  200  taille de l'output: 9\n",
            "Préférences générées par la Pareto Dominance: Taille de R:  763  taille de l'output: 9\n",
            "Préférences de prix: B vaut, 8 Taille de R 500  taille de l'output: 1\n",
            "Résultats pour B= 9\n",
            "Préférences générées par la Pareto Dominance: Taille de R:  10  taille de l'output: 28\n",
            "Préférences générées par la Pareto Dominance: Taille de R:  70  taille de l'output: 18\n",
            "Préférences générées par la Pareto Dominance: Taille de R:  200  taille de l'output: 10\n",
            "Préférences générées par la Pareto Dominance: Taille de R:  763  taille de l'output: 10\n",
            "Préférences de prix: B vaut, 9 Taille de R 500  taille de l'output: 1\n",
            "Résultats pour B= 10\n",
            "Préférences générées par la Pareto Dominance: Taille de R:  10  taille de l'output: 30\n",
            "Préférences générées par la Pareto Dominance: Taille de R:  70  taille de l'output: 19\n",
            "Préférences générées par la Pareto Dominance: Taille de R:  200  taille de l'output: 10\n",
            "Préférences générées par la Pareto Dominance: Taille de R:  763  taille de l'output: 10\n",
            "Préférences de prix: B vaut, 10 Taille de R 500  taille de l'output: 1\n",
            "Résultats pour B= 11\n",
            "Préférences générées par la Pareto Dominance: Taille de R:  10  taille de l'output: 30\n",
            "Préférences générées par la Pareto Dominance: Taille de R:  70  taille de l'output: 19\n",
            "Préférences générées par la Pareto Dominance: Taille de R:  200  taille de l'output: 10\n",
            "Préférences générées par la Pareto Dominance: Taille de R:  763  taille de l'output: 10\n",
            "Préférences de prix: B vaut, 11 Taille de R 500  taille de l'output: 1\n",
            "Résultats pour B= 12\n",
            "Préférences générées par la Pareto Dominance: Taille de R:  10  taille de l'output: 30\n",
            "Préférences générées par la Pareto Dominance: Taille de R:  70  taille de l'output: 19\n",
            "Préférences générées par la Pareto Dominance: Taille de R:  200  taille de l'output: 10\n",
            "Préférences générées par la Pareto Dominance: Taille de R:  763  taille de l'output: 10\n",
            "Préférences de prix: B vaut, 12 Taille de R 500  taille de l'output: 1\n",
            "Résultats pour B= 13\n",
            "Préférences générées par la Pareto Dominance: Taille de R:  10  taille de l'output: 30\n",
            "Préférences générées par la Pareto Dominance: Taille de R:  70  taille de l'output: 19\n",
            "Préférences générées par la Pareto Dominance: Taille de R:  200  taille de l'output: 10\n",
            "Préférences générées par la Pareto Dominance: Taille de R:  763  taille de l'output: 10\n",
            "Préférences de prix: B vaut, 13 Taille de R 500  taille de l'output: 1\n",
            "Résultats pour B= 14\n",
            "Préférences générées par la Pareto Dominance: Taille de R:  10  taille de l'output: 30\n",
            "Préférences générées par la Pareto Dominance: Taille de R:  70  taille de l'output: 19\n",
            "Préférences générées par la Pareto Dominance: Taille de R:  200  taille de l'output: 10\n",
            "Préférences générées par la Pareto Dominance: Taille de R:  763  taille de l'output: 10\n",
            "Préférences de prix: B vaut, 14 Taille de R 500  taille de l'output: 1\n"
          ]
        }
      ],
      "source": [
        "#Tests numériques\n",
        "B2=[i for i in range(2,15)]\n",
        "preferences = SR1_PD.R\n",
        "for b in B2:\n",
        "  print(\"Résultats pour B=\", b)\n",
        "  preferences = SR1_PD.R[:10]\n",
        "  y=nonOrdDomines(SR1,preferences , b)\n",
        "  print(\"Préférences générées par la Pareto Dominance:\", \"Taille de R: \", len(preferences),\" taille de l'output:\", len(y))\n",
        "  preferences = SR1_PD.R[:70]\n",
        "  y=nonOrdDomines(SR1,preferences , b)\n",
        "  print(\"Préférences générées par la Pareto Dominance:\", \"Taille de R: \", len(preferences),\" taille de l'output:\", len(y))\n",
        "  preferences = SR1_PD.R[:200]\n",
        "  y=nonOrdDomines(SR1,preferences , b)\n",
        "  print(\"Préférences générées par la Pareto Dominance:\", \"Taille de R: \", len(preferences),\" taille de l'output:\", len(y))\n",
        "  preferences = SR1_PD.R\n",
        "  y=nonOrdDomines(SR1,preferences , b)\n",
        "  print(\"Préférences générées par la Pareto Dominance:\", \"Taille de R: \", len(preferences),\" taille de l'output:\", len(y))\n",
        "  preferences_prix3=preferences_prix[:500]\n",
        "  y1=nonOrdDomines(SR1,preferences_prix3 , b)\n",
        "  print(\"Préférences de prix: B vaut,\", b, \"Taille de R\", len(preferences_prix3),\" taille de l'output:\", len(y1))"
      ]
    },
    {
      "cell_type": "code",
      "execution_count": null,
      "metadata": {
        "id": "OCUZwQ7jk-KE"
      },
      "outputs": [],
      "source": [
        "#Extension: Critère environnemental de 1 à 10. Réecriture des 2 classes pour ajouter le critère en plus.\n",
        "\n",
        "class ConsoGES_E:\n",
        "    def __init__(self, coutGES, utilite, description, scoreE):\n",
        "        self.coutGES = coutGES\n",
        "        self.utilite = utilite\n",
        "        self.description = description\n",
        "        self.scoreE=scoreE\n",
        "\n",
        "alimentationE = [\n",
        "    ConsoGES_E(2.2, 5, \"Alimentation très carnée\",1),\n",
        "    ConsoGES_E(1.2, 7, \"Alimentation modérément carnée\",4),\n",
        "    ConsoGES_E(0.9, 6, \"Alimentation végétarienne\",9),\n",
        "    ConsoGES_E(0.4, 4, \"Alimentation végétalienne\",8)\n",
        "]\n",
        "\n",
        "transportE = [\n",
        "    ConsoGES_E(3, 4, \"Grosse voiture thermique pour 5000km/an/personne\",3),\n",
        "    ConsoGES_E(2.1, 6, \"Petite voiture thermique pour 10000km/an/personne\",3),\n",
        "    ConsoGES_E(1.6, 5, \"Voiture électrique de taille moyenne pour 5000km/an/personne\",5),\n",
        "    ConsoGES_E(0.3, 3, \"Mobilité douce\",9)\n",
        "]\n",
        "\n",
        "logementE = [\n",
        "    ConsoGES_E(3, 7, \"Maison mal isolée thermiquement, 60m2/personne\",3),\n",
        "    ConsoGES_E(0.2, 6, \"Appartement très bien isolé thermiquement, 40m2/personne\",8)\n",
        "]\n",
        "\n",
        "consommationE = [\n",
        "    ConsoGES_E(2.5, 10, \"Consommation importante de biens et services\",2),\n",
        "    ConsoGES_E(1.3, 6, \"Consommation sobre de biens et services\",8)\n",
        "]"
      ]
    },
    {
      "cell_type": "code",
      "execution_count": null,
      "metadata": {
        "id": "5nMlOwHpmMlt"
      },
      "outputs": [],
      "source": [
        "class SacADosGES_E:\n",
        "      def __init__(self, consommation, alimentation, transport,logement):\n",
        "        self.consommation = consommation\n",
        "        self.alimentation = alimentation\n",
        "        self.transport = transport\n",
        "        self.logement=logement\n",
        "\n",
        "\n",
        "      def getCoutGES(self):\n",
        "        cout=0\n",
        "        cout+= self.alimentation.coutGES\n",
        "        cout+=self.transport.coutGES\n",
        "        cout+= self.logement.coutGES\n",
        "        cout+= self.consommation.coutGES\n",
        "        return cout\n",
        "\n",
        "      def getUtilite(self):\n",
        "        utilite=0\n",
        "        utilite+= self.alimentation.utilite\n",
        "        utilite+= self.transport.utilite\n",
        "        utilite+= self.logement.utilite\n",
        "        utilite+= self.consommation.utilite\n",
        "        return utilite\n",
        "\n",
        "#Définition de la nouvelle fonction pour obtenir le score environnemental total.\n",
        "      def getScore(self):\n",
        "        s=0\n",
        "        s+= self.alimentation.scoreE\n",
        "        s+= self.transport.scoreE\n",
        "        s+= self.logement.scoreE\n",
        "        s+= self.consommation.scoreE\n",
        "        return s\n",
        "\n",
        "#Redéfinition de cette fonction pour ajouter une contrainte sur le score environnemental\n",
        "      def estValide(self,B,S):\n",
        "        if (self.getCoutGES()<=B and self.getScore()<=S):\n",
        "          return True\n",
        "        else:\n",
        "          return False\n",
        "\n",
        "#Fonction pour tester l'égalité entre 2 sacs\n",
        "      def __eq__(self, other):\n",
        "        if isinstance(other, SacADosGES):\n",
        "            return (self.consommation == other.consommation and\n",
        "                    self.alimentation == other.alimentation and\n",
        "                    self.transport == other.transport and\n",
        "                    self.logement == other.logement)\n",
        "        return False\n",
        "\n",
        "\n",
        "\n",
        "def getSacsADos_E(consommation, alimentation, transport, logement):\n",
        "        sacs = []\n",
        "        for cons in consommation:\n",
        "            for ali in alimentation:\n",
        "                for tra in transport:\n",
        "                    for log in logement:\n",
        "                        sac = SacADosGES_E(cons, ali, tra, log)\n",
        "                        sacs.append(sac)\n",
        "        return sacs\n",
        "\n",
        "#Redéfinition de cette fonction pour ajouter une contrainte sur le score environnemental\n",
        "def filtre_E(L,B,S):\n",
        "        sacs1=[]\n",
        "        for sac in L:\n",
        "          if sac.estValide(B,S):\n",
        "            sacs1.append(sac)\n",
        "        return sacs1\n",
        "\n",
        "A_getSacsADos_E=getSacsADos_E(consommation, alimentation, transport, logement)\n",
        "\n"
      ]
    },
    {
      "cell_type": "code",
      "execution_count": null,
      "metadata": {
        "id": "nthYsCSeoPSz"
      },
      "outputs": [],
      "source": [
        "class SystemeRelationnel_E:\n",
        "   def __init__(self,A,R):\n",
        "    self.A=A\n",
        "    self.R=R\n",
        "\n",
        "#La relation Pareto dominance modifiée\n",
        "   def getSR_PD(self):\n",
        "    R1=[]\n",
        "    for a in self.A:\n",
        "      for b in self.A:\n",
        "          if ((a.getUtilite()>=b.getUtilite() and a.getCoutGES()<b.getCoutGES() and a.getScore()>=b.getScore()) or (a.getUtilite()>b.getUtilite() and a.getCoutGES()<=b.getCoutGES() and  a.getScore()>=b.getScore()) or (a.getUtilite()>b.getUtilite() and a.getCoutGES()<b.getCoutGES() and  a.getScore()>b.getScore())):\n",
        "            R1.append((a,b))\n",
        "\n",
        "    return SystemeRelationnel(self.A, R1)\n",
        "\n",
        "   def utiliteMax1(self, B,S):\n",
        "        utilite_max = 0\n",
        "        sac_max= None\n",
        "        for sac in self.A:\n",
        "            if (sac.estValide(B,S)):\n",
        "              if (sac.getUtilite()>utilite_max):\n",
        "                utilite_max=sac.getUtilite()\n",
        "                sac_max=sac\n",
        "        return utilite_max, sac_max\n",
        "\n"
      ]
    },
    {
      "cell_type": "markdown",
      "metadata": {
        "id": "z371wZHJteNy"
      },
      "source": [
        "Nous allons alors représenter l'utilité maximale mais cette fois en fonction de 2 critères."
      ]
    },
    {
      "cell_type": "code",
      "execution_count": null,
      "metadata": {
        "colab": {
          "base_uri": "https://localhost:8080/",
          "height": 472
        },
        "id": "KVNf0OTunFg6",
        "outputId": "45010881-5b45-430a-b280-6b8fe14f1a30"
      },
      "outputs": [
        {
          "data": {
            "image/png": "[encoded data removed]",
            "text/plain": [
              "<Figure size 640x480 with 2 Axes>"
            ]
          },
          "metadata": {},
          "output_type": "display_data"
        }
      ],
      "source": [
        "LE=getSacsADos_E(consommationE, alimentationE, transportE, logementE)\n",
        "SR_E=SystemeRelationnel_E(LE,[])\n",
        "BE=[5,7,10,12]\n",
        "SE=[5,10,15,20]\n",
        "SR_E_PD=SR_E.getSR_PD()\n",
        "utilites_max_E = [SR_E.utiliteMax1(b,s)[0] for b in BE for s in SE]\n",
        "\n",
        "#transfotmer utilites_max_E en une liste à 2 dimensions\n",
        "utilites_max_E_2D = np.array(utilites_max_E).reshape(len(BE), len(SE))\n",
        "BE_grid, SE_grid = np.meshgrid(BE, SE)\n",
        "contour = plt.contourf(BE_grid, SE_grid, utilites_max_E_2D, cmap='viridis')\n",
        "plt.colorbar(contour, label='Utilité Maximale')\n",
        "plt.xlabel('Borne B (Coût GES max)')\n",
        "plt.ylabel('Score Environmental(SE)')\n",
        "plt.title('Utilité Maximale en fonction de la Borne B et le Score Environmental')\n",
        "plt.grid(True)\n",
        "plt.show()\n"
      ]
    },
    {
      "cell_type": "markdown",
      "metadata": {
        "id": "FjDE2EkCuKWR"
      },
      "source": [
        "On remarque que si le score environnmental est bas, une augmentation du coût en carbone B ne fait pas trop augmenter l'utilité maximale. Cependant, pour les valeures de B et S choisies, plus le score augmente plus l'utilité maximale est sensible à une augmentation du coût carbone B."
      ]
    }
  ],
  "metadata": {
    "colab": {
      "provenance": []
    },
    "kernelspec": {
      "display_name": "Python 3",
      "name": "python3"
    },
    "language_info": {
      "name": "python"
    }
  },
  "nbformat": 4,
  "nbformat_minor": 0
}
